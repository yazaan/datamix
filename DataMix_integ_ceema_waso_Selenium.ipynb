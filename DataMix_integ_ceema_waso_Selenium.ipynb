{
 "cells": [
  {
   "cell_type": "code",
   "execution_count": 1,
   "metadata": {
    "scrolled": true
   },
   "outputs": [
    {
     "name": "stdout",
     "output_type": "stream",
     "text": [
      "Defaulting to user installation because normal site-packages is not writeable\n",
      "Requirement already satisfied: selenium in ./.local/lib/python3.7/site-packages (3.141.0)\n",
      "Requirement already satisfied: urllib3 in /opt/anaconda3/lib/python3.7/site-packages (from selenium) (1.25.8)\n",
      "Note: you may need to restart the kernel to use updated packages.\n"
     ]
    }
   ],
   "source": [
    "pip install selenium"
   ]
  },
  {
   "cell_type": "code",
   "execution_count": 2,
   "metadata": {},
   "outputs": [
    {
     "name": "stdout",
     "output_type": "stream",
     "text": [
      "Defaulting to user installation because normal site-packages is not writeable\n",
      "Requirement already satisfied: beautifulsoup4 in /opt/anaconda3/lib/python3.7/site-packages (4.8.2)\n",
      "Requirement already satisfied: soupsieve>=1.2 in /opt/anaconda3/lib/python3.7/site-packages (from beautifulsoup4) (1.9.5)\n",
      "Note: you may need to restart the kernel to use updated packages.\n"
     ]
    }
   ],
   "source": [
    "pip install beautifulsoup4"
   ]
  },
  {
   "cell_type": "code",
   "execution_count": 3,
   "metadata": {},
   "outputs": [
    {
     "name": "stdout",
     "output_type": "stream",
     "text": [
      "Defaulting to user installation because normal site-packages is not writeable\n",
      "Requirement already satisfied: chromedriver-binary==89.0.4389.23.0 in ./.local/lib/python3.7/site-packages (89.0.4389.23.0)\n",
      "Note: you may need to restart the kernel to use updated packages.\n"
     ]
    }
   ],
   "source": [
    "pip install chromedriver-binary==89.0.4389.23.0"
   ]
  },
  {
   "cell_type": "code",
   "execution_count": 4,
   "metadata": {},
   "outputs": [],
   "source": [
    "import chromedriver_binary\n",
    "import time\n",
    "from selenium import webdriver\n",
    "from selenium.webdriver.chrome.options import Options"
   ]
  },
  {
   "cell_type": "code",
   "execution_count": 17,
   "metadata": {},
   "outputs": [
    {
     "name": "stdout",
     "output_type": "stream",
     "text": [
      "Message: no such element: Unable to locate element: {\"method\":\"css selector\",\"selector\":\"#two-col-main > article.p-items-list > section > ul.p-items-article-list > li:nth-child(46) > article > figure > div\"}\n",
      "  (Session info: headless chrome=89.0.4389.128)\n",
      "\n",
      "Message: no such element: Unable to locate element: {\"method\":\"css selector\",\"selector\":\"#two-col-main > article.p-items-list > section > ul.p-items-article-list > li:nth-child(47) > article > figure > div\"}\n",
      "  (Session info: headless chrome=89.0.4389.128)\n",
      "\n",
      "Message: no such element: Unable to locate element: {\"method\":\"css selector\",\"selector\":\"#two-col-main > article.p-items-list > section > ul.p-items-article-list > li:nth-child(48) > article > figure > div\"}\n",
      "  (Session info: headless chrome=89.0.4389.128)\n",
      "\n",
      "Message: no such element: Unable to locate element: {\"method\":\"css selector\",\"selector\":\"#two-col-main > article.p-items-list > section > ul.p-items-article-list > li:nth-child(49) > article > figure > div\"}\n",
      "  (Session info: headless chrome=89.0.4389.128)\n",
      "\n",
      "Message: no such element: Unable to locate element: {\"method\":\"css selector\",\"selector\":\"#two-col-main > article.p-items-list > section > ul.p-items-article-list > li:nth-child(50) > article > figure > div\"}\n",
      "  (Session info: headless chrome=89.0.4389.128)\n",
      "\n",
      "Message: no such element: Unable to locate element: {\"method\":\"css selector\",\"selector\":\"#two-col-main > article.p-items-list > section > ul.p-items-article-list > li:nth-child(51) > article > figure > div\"}\n",
      "  (Session info: headless chrome=89.0.4389.128)\n",
      "\n",
      "Message: no such element: Unable to locate element: {\"method\":\"css selector\",\"selector\":\"#two-col-main > article.p-items-list > section > ul.p-items-article-list > li:nth-child(52) > article > figure > div\"}\n",
      "  (Session info: headless chrome=89.0.4389.128)\n",
      "\n",
      "Message: no such element: Unable to locate element: {\"method\":\"css selector\",\"selector\":\"#two-col-main > article.p-items-list > section > ul.p-items-article-list > li:nth-child(53) > article > figure > div\"}\n",
      "  (Session info: headless chrome=89.0.4389.128)\n",
      "\n",
      "Message: no such element: Unable to locate element: {\"method\":\"css selector\",\"selector\":\"#two-col-main > article.p-items-list > section > ul.p-items-article-list > li:nth-child(54) > article > figure > div\"}\n",
      "  (Session info: headless chrome=89.0.4389.128)\n",
      "\n",
      "Message: no such element: Unable to locate element: {\"method\":\"css selector\",\"selector\":\"#two-col-main > article.p-items-list > section > ul.p-items-article-list > li:nth-child(55) > article > figure > div\"}\n",
      "  (Session info: headless chrome=89.0.4389.128)\n",
      "\n",
      "Message: no such element: Unable to locate element: {\"method\":\"css selector\",\"selector\":\"#two-col-main > article.p-items-list > section > ul.p-items-article-list > li:nth-child(56) > article > figure > div\"}\n",
      "  (Session info: headless chrome=89.0.4389.128)\n",
      "\n",
      "Message: no such element: Unable to locate element: {\"method\":\"css selector\",\"selector\":\"#two-col-main > article.p-items-list > section > ul.p-items-article-list > li:nth-child(57) > article > figure > div\"}\n",
      "  (Session info: headless chrome=89.0.4389.128)\n",
      "\n",
      "Message: no such element: Unable to locate element: {\"method\":\"css selector\",\"selector\":\"#two-col-main > article.p-items-list > section > ul.p-items-article-list > li:nth-child(58) > article > figure > div\"}\n",
      "  (Session info: headless chrome=89.0.4389.128)\n",
      "\n",
      "Message: no such element: Unable to locate element: {\"method\":\"css selector\",\"selector\":\"#two-col-main > article.p-items-list > section > ul.p-items-article-list > li:nth-child(59) > article > figure > div\"}\n",
      "  (Session info: headless chrome=89.0.4389.128)\n",
      "\n",
      "Message: no such element: Unable to locate element: {\"method\":\"css selector\",\"selector\":\"#two-col-main > article.p-items-list > section > ul.p-items-article-list > li:nth-child(60) > article > figure > div\"}\n",
      "  (Session info: headless chrome=89.0.4389.128)\n",
      "\n",
      "Message: no such element: Unable to locate element: {\"method\":\"css selector\",\"selector\":\"#two-col-main > article.p-items-list > section > ul.p-items-article-list > li:nth-child(61) > article > figure > div\"}\n",
      "  (Session info: headless chrome=89.0.4389.128)\n",
      "\n",
      "Message: no such element: Unable to locate element: {\"method\":\"css selector\",\"selector\":\"#two-col-main > article.p-items-list > section > ul.p-items-article-list > li:nth-child(62) > article > figure > div\"}\n",
      "  (Session info: headless chrome=89.0.4389.128)\n",
      "\n",
      "Message: no such element: Unable to locate element: {\"method\":\"css selector\",\"selector\":\"#two-col-main > article.p-items-list > section > ul.p-items-article-list > li:nth-child(63) > article > figure > div\"}\n",
      "  (Session info: headless chrome=89.0.4389.128)\n",
      "\n",
      "Message: no such element: Unable to locate element: {\"method\":\"css selector\",\"selector\":\"#two-col-main > article.p-items-list > section > ul.p-items-article-list > li:nth-child(64) > article > figure > div\"}\n",
      "  (Session info: headless chrome=89.0.4389.128)\n",
      "\n",
      "Message: no such element: Unable to locate element: {\"method\":\"css selector\",\"selector\":\"#two-col-main > article.p-items-list > section > ul.p-items-article-list > li:nth-child(65) > article > figure > div\"}\n",
      "  (Session info: headless chrome=89.0.4389.128)\n",
      "\n",
      "Message: no such element: Unable to locate element: {\"method\":\"css selector\",\"selector\":\"#two-col-main > article.p-items-list > section > ul.p-items-article-list > li:nth-child(66) > article > figure > div\"}\n",
      "  (Session info: headless chrome=89.0.4389.128)\n",
      "\n",
      "Message: no such element: Unable to locate element: {\"method\":\"css selector\",\"selector\":\"#two-col-main > article.p-items-list > section > ul.p-items-article-list > li:nth-child(67) > article > figure > div\"}\n",
      "  (Session info: headless chrome=89.0.4389.128)\n",
      "\n",
      "Message: no such element: Unable to locate element: {\"method\":\"css selector\",\"selector\":\"#two-col-main > article.p-items-list > section > ul.p-items-article-list > li:nth-child(68) > article > figure > div\"}\n",
      "  (Session info: headless chrome=89.0.4389.128)\n",
      "\n",
      "Message: no such element: Unable to locate element: {\"method\":\"css selector\",\"selector\":\"#two-col-main > article.p-items-list > section > ul.p-items-article-list > li:nth-child(69) > article > figure > div\"}\n",
      "  (Session info: headless chrome=89.0.4389.128)\n",
      "\n",
      "Message: no such element: Unable to locate element: {\"method\":\"css selector\",\"selector\":\"#two-col-main > article.p-items-list > section > ul.p-items-article-list > li:nth-child(70) > article > figure > div\"}\n",
      "  (Session info: headless chrome=89.0.4389.128)\n",
      "\n",
      "Message: no such element: Unable to locate element: {\"method\":\"css selector\",\"selector\":\"#two-col-main > article.p-items-list > section > ul.p-items-article-list > li:nth-child(71) > article > figure > div\"}\n",
      "  (Session info: headless chrome=89.0.4389.128)\n",
      "\n",
      "Message: no such element: Unable to locate element: {\"method\":\"css selector\",\"selector\":\"#two-col-main > article.p-items-list > section > ul.p-items-article-list > li:nth-child(72) > article > figure > div\"}\n",
      "  (Session info: headless chrome=89.0.4389.128)\n",
      "\n",
      "Message: no such element: Unable to locate element: {\"method\":\"css selector\",\"selector\":\"#two-col-main > article.p-items-list > section > ul.p-items-article-list > li:nth-child(73) > article > figure > div\"}\n",
      "  (Session info: headless chrome=89.0.4389.128)\n",
      "\n",
      "Message: no such element: Unable to locate element: {\"method\":\"css selector\",\"selector\":\"#two-col-main > article.p-items-list > section > ul.p-items-article-list > li:nth-child(74) > article > figure > div\"}\n",
      "  (Session info: headless chrome=89.0.4389.128)\n",
      "\n",
      "Message: no such element: Unable to locate element: {\"method\":\"css selector\",\"selector\":\"#two-col-main > article.p-items-list > section > ul.p-items-article-list > li:nth-child(75) > article > figure > div\"}\n",
      "  (Session info: headless chrome=89.0.4389.128)\n",
      "\n",
      "Message: no such element: Unable to locate element: {\"method\":\"css selector\",\"selector\":\"#two-col-main > article.p-items-list > section > ul.p-items-article-list > li:nth-child(76) > article > figure > div\"}\n",
      "  (Session info: headless chrome=89.0.4389.128)\n",
      "\n",
      "Message: no such element: Unable to locate element: {\"method\":\"css selector\",\"selector\":\"#two-col-main > article.p-items-list > section > ul.p-items-article-list > li:nth-child(77) > article > figure > div\"}\n",
      "  (Session info: headless chrome=89.0.4389.128)\n",
      "\n"
     ]
    },
    {
     "name": "stdout",
     "output_type": "stream",
     "text": [
      "Message: no such element: Unable to locate element: {\"method\":\"css selector\",\"selector\":\"#two-col-main > article.p-items-list > section > ul.p-items-article-list > li:nth-child(78) > article > figure > div\"}\n",
      "  (Session info: headless chrome=89.0.4389.128)\n",
      "\n",
      "Message: no such element: Unable to locate element: {\"method\":\"css selector\",\"selector\":\"#two-col-main > article.p-items-list > section > ul.p-items-article-list > li:nth-child(79) > article > figure > div\"}\n",
      "  (Session info: headless chrome=89.0.4389.128)\n",
      "\n"
     ]
    }
   ],
   "source": [
    "import time\n",
    "from selenium import webdriver\n",
    "import chromedriver_binary\n",
    "from selenium.webdriver.chrome.options import Options\n",
    "def selenium_datascraping(pageno, x):\n",
    "    data = {}\n",
    "    option = Options()                          # オプションを用意\n",
    "    option.add_argument('--headless')           # ヘッドレスモードの設定を付与\n",
    "    driver = webdriver.Chrome(options=option)\n",
    "    driver.get(f\"https://www.creema.jp/listing/140?active=pc_listing-form&page={pageno}\")\n",
    "    driver.find_element_by_css_selector(f\"#two-col-main > article.p-items-list > section > ul.p-items-article-list > li:nth-child({x}) > article > figure > div\").click()\n",
    "    whandles = driver.window_handles\n",
    "    driver.switch_to.window(whandles[-1])\n",
    "    html = driver.page_source\n",
    "    with open(f'html/wa_{pageno}_{x}.html', 'w', encoding='utf-8') as f:\n",
    "        f.write(html)\n",
    "    driver.close()\n",
    "    time.sleep(5)\n",
    "    return data\n",
    "import os\n",
    "os.makedirs('html', exist_ok=True)\n",
    "data_list = []\n",
    "for page in range(124, 125):\n",
    "    # 1 ~ 124ページまで\n",
    "    for i in range(1, 80):\n",
    "        # 1 ~ 100個のアイテム\n",
    "        try:\n",
    "            data_list.append(selenium_datascraping(page, i))\n",
    "        except Exception as ex:\n",
    "            print(ex)"
   ]
  },
  {
   "cell_type": "code",
   "execution_count": null,
   "metadata": {},
   "outputs": [],
   "source": []
  }
 ],
 "metadata": {
  "kernelspec": {
   "display_name": "Python 3",
   "language": "python",
   "name": "python3"
  },
  "language_info": {
   "codemirror_mode": {
    "name": "ipython",
    "version": 3
   },
   "file_extension": ".py",
   "mimetype": "text/x-python",
   "name": "python",
   "nbconvert_exporter": "python",
   "pygments_lexer": "ipython3",
   "version": "3.7.6"
  }
 },
 "nbformat": 4,
 "nbformat_minor": 2
}
